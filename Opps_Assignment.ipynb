{
  "nbformat": 4,
  "nbformat_minor": 0,
  "metadata": {
    "colab": {
      "provenance": []
    },
    "kernelspec": {
      "name": "python3",
      "display_name": "Python 3"
    },
    "language_info": {
      "name": "python"
    }
  },
  "cells": [
    {
      "cell_type": "markdown",
      "source": [
        "# **Python OOPs Questions**\n"
      ],
      "metadata": {
        "id": "6M7nPkDoQ1C5"
      }
    },
    {
      "cell_type": "markdown",
      "source": [
        "Q1. What is Object-Oriented Programming (OOP)?\n",
        " - OOP is a programming style that organizes code into self‑contained “objects” which bundle both data (attributes) and behavior (methods).\n",
        "\n",
        "Q2. What is a class in OOP?\n",
        " - A class specifies the structure and behavior that all objects created from it will share it defines which properties (data) and actions (methods) those objects must possess.\n",
        "\n",
        "Q3. What is an object in OOP?\n",
        " - An object in Object‑Oriented Programming (OOP) is a concrete instance of a class, representing a real-world or abstract entity.\n",
        "\n",
        "Q4. What is the difference between abstraction and encapsulation?\n",
        " - ABSTRACTION\n",
        "*  Defination - Abstraction hides the complex implementation details and exposes only the essential features or behavior of a system. It focuses on what something does, not how it does it.\n",
        "*  Purpose - Simplifies complex systems by providing a high-level interface, reducing cognitive load when using or integrating components\n",
        " - ENCAPSULATION\n",
        "*  Definition: Encapsulation is the bundling of data (attributes) and methods (functions) into a single class, and restricting direct access to an object’s internal state—typically using access modifiers.\n",
        "*  Purpose: Protects the object’s integrity by controlling how data is accessed or modified, and helps manage complexity at the implementation level.\n",
        "\n",
        "Q5. What are dunder methods in Python?\n",
        " - Dunder methods are special methods in Python with names that both start and end with double underscores, such as __init__, __str__, __add__, and __len__ etc.\n",
        "\n",
        "Q6. Explain the concept of inheritance in OOP.\n",
        " - Inheritance is a mechanism where one class (called a subclass or derived class) inherits attributes and methods from another class (the superclass or base class), establishing an \"is‑a\" relationship.\n",
        "\n",
        "Q7. What is polymorphism in OOP?\n",
        " - Polymorphism is a foundational OOP principle that allows objects of different classes to be treated as if they were instances of a common superclass or interface, each responding to the same method call in its own way. In essence, it enables one interface to represent many forms.\n",
        "\n",
        "Q8. How is encapsulation achieved in Python?\n",
        " - Encapsulation in Python is a fundamental Object-Oriented Programming (OOP) concept that involves bundling data (attributes) and methods (functions) that operate on the data within a single unit or class. It restricts direct access to some of an object's components, which can prevent the accidental modification of data.\n",
        "\n",
        "Q9. What is a constructor in Python?\n",
        " - In Python, a constructor is a special method named __init__() that is automatically called when a new object is created from a class. Its primary purpose is to initialize the object's attributes, setting up its initial state.\n",
        "\n",
        "Q10. What are class and static methods in Python?\n",
        " - Class Method\n",
        "*  Definition: A class method is a method that receives the class as its first argument, conventionally named cls. It is defined using the @classmethod decorator.\n",
        "*  Access: Class methods can access and modify class-level attributes but cannot access instance-specific attributes.\n",
        " - Static Method\n",
        "*  Definition: A static method is a method that does not receive any implicit first argument (neither self nor cls). It is defined using the @staticmethod decorator.\n",
        "* Access: Static methods cannot access or modify instance-specific or class-specific attributes. They are self-contained and operate solely on the parameters passed to them.\n",
        "\n",
        "Q11. What is method overloading in Python?\n",
        " - Method overloading allows a class to have multiple methods with the same name but different parameters.\n",
        "\n",
        "Q12. What is method overriding in OOP?\n",
        " - Method overriding is a fundamental concept in object-oriented programming that allows a subclass to provide a specific implementation of a method that is already defined in its superclass.\n",
        "\n",
        "Q13. What is a property decorator in Python?\n",
        " - The @property decorator in Python is a built-in function that allows you to define methods in a class that can be accessed like attributes. This provides a way to manage attribute access, enabling features such as data validation, lazy evaluation, and the creation of backward-compatible APIs without modifying the class’s public interface.\n",
        "\n",
        "Q14. Why is polymorphism important in OOP?\n",
        " - Polymorphism is a cornerstone of Object-Oriented Programming (OOP), offering several key advantages that enhance code flexibility, maintainability, and scalability.\n",
        "\n",
        "Q15. What is an abstract class in Python?\n",
        " - An abstract class in Python is a class that cannot be instantiated on its own and is designed to serve as a blueprint for other classes. It allows you to define methods that must be implemented by subclasses, ensuring a consistent interface while still allowing the subclasses to provide specific implementations.\n",
        "\n",
        "Q16. What are the advantages of OOP?\n",
        " - Object-Oriented Programming (OOP) offers several key advantages that enhance software development processes, particularly for large-scale and complex applications.\n",
        " - Key Advantages of Object-Oriented Programming\n",
        "*  Modularity\n",
        "*  Code Reusability\n",
        "*  Encapsulation\n",
        "*  Abstraction\n",
        "*  Inheritance\n",
        "*  Scalability\n",
        "\n",
        "Q17. What is the difference between a class variable and an instance variable?\n",
        " - In Python, class variables and instance variables are both used to store data within a class, but they differ in scope, initialization, and behavior.\n",
        " - Class Variables\n",
        "*  Definition: Class variables are attributes defined within a class but outside any instance methods. They are shared among all instances of the class.\n",
        "*  Initialization: Declared directly within the class body, typically before any instance methods.\n",
        "*  Access: Accessed using the class name or through any instance. However, modifying them via an instance can lead to unexpected behavior.\n",
        "*  Use Case: Ideal for attributes that should have the same value across all instances, such as a constant or a counter.\n",
        " - Instance Variables\n",
        "*  Definition: Instance variables are attributes specific to each instance of a class. They are defined within instance methods, typically the __init__ constructor.\n",
        "*  Initialization: Assigned within instance methods using the self keyword.\n",
        "*  Access: Accessed via the instance using self. Each instance has its own copy of these variables.\n",
        "*  Use Case: Suitable for attributes that vary between instances, such as a person's name or an object's dimensions.\n",
        "\n",
        "Q18. What is multiple inheritance in Python?\n",
        " - Multiple inheritance in Python is a way for a class to inherit from more than one parent class, allowing it to combine attributes and methods from multiple sources—a flexibility not permitted with single inheritance.\n",
        "\n",
        "Q19. Explain the purpose of ‘’__str__’ and ‘__repr__’ ‘ methods in Python?\n",
        " - __str__ – for users (informal, readable):\n",
        "*  Returns a clean, friendly string that’s meant for end users.\n",
        "*  Used by print(obj) and str(obj).\n",
        " - __repr__ – for developers (formal, unambiguous):\n",
        "*  Returns a detailed string, ideally valid Python code, that helps recreate the object.\n",
        "*  Used by repr(obj) and when an object is inspected in interactive mode.\n",
        "\n",
        "Q20. What is the significance of the ‘super()’ function in Python?\n",
        " - The super() function in Python is pivotal for writing clean, maintainable object‑oriented code—especially when you're dealing with inheritance.\n",
        "\n",
        "Q21. What is the significance of the __del__ method in Python?\n",
        " - The __del__() method in Python, often called a destructor (or more accurately, a finalizer), gives an object one last opportunity to perform cleanup before it’s destroyed by the garbage collector.\n",
        "\n",
        "Q22. What is the difference between @staticmethod and @classmethod in Python?\n",
        " - @staticmethod\n",
        "*  A static method takes no special first argument—no self, no cls.\n",
        "*  It behaves like a normal function scoped within a class, for organizational clarity.\n",
        "*  Cannot access instance attributes nor class state unless referred explicitly by class name.\n",
        "\n",
        "Q23. How does polymorphism work in Python with inheritance?\n",
        " - When a subclass overrides a method defined in its parent class, Python uses dynamic dispatch or dynamic binding—it chooses the correct version of the method at runtime based on the actual object type.\n",
        "\n",
        "Q24. What is method chaining in Python OOP?\n",
        " - Method chaining enables successive method calls on an object by having each method return the object itself (self) or another relevant object, enabling the next call. Think of it like sending the same object down a chain of operations.\n",
        "\n",
        "Q25. What is the purpose of the __call__ method in Python?\n",
        " - The __call__ method is a special (magic) method that allows an instance of a class to be called as if it were a function—i.e., instance(...) triggers instance.__call__(...). This means objects can exhibit function-like behavior.\n"
      ],
      "metadata": {
        "id": "8M3AcL8eQ9ap"
      }
    },
    {
      "cell_type": "markdown",
      "source": [
        "# **Practical Questions**"
      ],
      "metadata": {
        "id": "ExPb_wfy2GiM"
      }
    },
    {
      "cell_type": "code",
      "source": [
        "'''\n",
        " Q1. Create a parent class Animal with a method speak() that prints a generic message. Create a child class Dog\n",
        "that overrides the speak() method to print \"Bark!\".\n",
        "\n",
        "'''\n",
        "class Animal:             #This is the parent class\n",
        "    def speak(self):\n",
        "        print(\"Animal makes a generic sound\")\n",
        "\n",
        "class Dog(Animal):        #This is the child class\n",
        "    def speak(self):\n",
        "        print(\"Bark!\")\n",
        "\n",
        "d = Dog()         # creating object\n",
        "d.speak()"
      ],
      "metadata": {
        "colab": {
          "base_uri": "https://localhost:8080/"
        },
        "id": "MqO4Bjc-2O0E",
        "outputId": "a5bbc27e-9786-41d5-8c0f-76d2368521cb"
      },
      "execution_count": null,
      "outputs": [
        {
          "output_type": "stream",
          "name": "stdout",
          "text": [
            "Bark!\n"
          ]
        }
      ]
    },
    {
      "cell_type": "code",
      "source": [
        "'''\n",
        "Q2. Write a program to create an abstract class Shape with a method area(). Derive classes Circle and Rectangle\n",
        "from it and implement the area() method in both.\n",
        "\n",
        "'''\n",
        "from abc import ABC, abstractmethod\n",
        "\n",
        "class Shape(ABC):\n",
        "    @abstractmethod\n",
        "    def area(self):\n",
        "        pass\n",
        "\n",
        "import math\n",
        "\n",
        "class Circle(Shape):\n",
        "    def __init__(self, radius):\n",
        "        self.radius = radius\n",
        "\n",
        "    def area(self):\n",
        "        return math.pi * self.radius ** 2\n",
        "\n",
        "class Rectangle(Shape):\n",
        "    def __init__(self, length, width):\n",
        "        self.length = length\n",
        "        self.width = width\n",
        "\n",
        "    def area(self):\n",
        "        return self.length * self.width\n",
        "\n",
        "# Creating objects of Circle and Rectangle\n",
        "circle = Circle(5)\n",
        "rectangle = Rectangle(4, 6)\n",
        "\n",
        "# Calculating and printing the areas\n",
        "print(f\"Area of Circle: {circle.area()}\")\n",
        "print(f\"Area of Rectangle: {rectangle.area()}\")"
      ],
      "metadata": {
        "colab": {
          "base_uri": "https://localhost:8080/"
        },
        "id": "Iezpz94w424Z",
        "outputId": "97f14dfa-a4b8-4041-9efe-a8c5d79715fb"
      },
      "execution_count": null,
      "outputs": [
        {
          "output_type": "stream",
          "name": "stdout",
          "text": [
            "Area of Circle: 78.53981633974483\n",
            "Area of Rectangle: 24\n"
          ]
        }
      ]
    },
    {
      "cell_type": "code",
      "source": [
        "'''\n",
        "Q3.  Implement a multi-level inheritance scenario where a class Vehicle has an attribute type. Derive a class Car\n",
        "and further derive a class ElectricCar that adds a battery attribute.\n",
        "\n",
        "'''\n",
        "# Base class Vehicle\n",
        "class Vehicle:\n",
        "    def __init__(self, type):\n",
        "        self.type = type\n",
        "\n",
        "    def display_type(self):\n",
        "        print(f\"This is a {self.type}.\")\n",
        "\n",
        "# Derived class Car inherits from Vehicle\n",
        "class Car(Vehicle):\n",
        "    def __init__(self, type, model):\n",
        "        super().__init__(type)  # Call the parent class constructor\n",
        "        self.model = model\n",
        "\n",
        "    def display_model(self):\n",
        "        print(f\"This car is a {self.model}.\")\n",
        "\n",
        "# Further derived class ElectricCar inherits from Car\n",
        "class ElectricCar(Car):\n",
        "    def __init__(self, type, model, battery):\n",
        "        super().__init__(type, model)  # Call the parent class constructor\n",
        "        self.battery = battery\n",
        "\n",
        "    def display_battery(self):\n",
        "        print(f\"This electric car has a {self.battery} battery.\")\n",
        "\n",
        "# Creating an object of ElectricCar\n",
        "electric_car = ElectricCar(\"Electric Vehicle\", \"Tesla Model S\", \"100 kWh\")\n",
        "\n",
        "# Calling methods from different levels of the inheritance\n",
        "electric_car.display_type()      # From Vehicle class\n",
        "electric_car.display_model()     # From Car class\n",
        "electric_car.display_battery()   # From ElectricCar class"
      ],
      "metadata": {
        "colab": {
          "base_uri": "https://localhost:8080/"
        },
        "id": "0bUhOMNa-X9O",
        "outputId": "38ca8a3c-066e-47a0-89eb-7ffbd14ddf77"
      },
      "execution_count": 16,
      "outputs": [
        {
          "output_type": "stream",
          "name": "stdout",
          "text": [
            "This is a Electric Vehicle.\n",
            "This car is a Tesla Model S.\n",
            "This electric car has a 100 kWh battery.\n"
          ]
        }
      ]
    },
    {
      "cell_type": "code",
      "source": [
        "'''\n",
        "Q4.  Demonstrate polymorphism by creating a base class Bird with a method fly(). Create two derived classes\n",
        "Sparrow and Penguin that override the fly() method.\n",
        "\n",
        "'''\n",
        "# Base class Bird\n",
        "class Bird:\n",
        "    def fly(self):\n",
        "        print(\"This bird can fly.\")\n",
        "\n",
        "# Derived class Sparrow\n",
        "class Sparrow(Bird):\n",
        "    def fly(self):\n",
        "        print(\"The sparrow flies high in the sky.\")\n",
        "\n",
        "# Derived class Penguin\n",
        "class Penguin(Bird):\n",
        "    def fly(self):\n",
        "        print(\"The penguin cannot fly, it swims.\")\n",
        "\n",
        "# Creating objects of Sparrow and Penguin\n",
        "sparrow = Sparrow()\n",
        "penguin = Penguin()\n",
        "\n",
        "# Calling the fly() method on both objects\n",
        "sparrow.fly()   # Output: The sparrow flies high in the sky.\n",
        "penguin.fly()   # Output: The penguin cannot fly, it swims.\n"
      ],
      "metadata": {
        "colab": {
          "base_uri": "https://localhost:8080/"
        },
        "id": "OOxHvP4Y-dnd",
        "outputId": "4d7f7edb-aa78-4ff5-9f46-7f0a5a327a5d"
      },
      "execution_count": 17,
      "outputs": [
        {
          "output_type": "stream",
          "name": "stdout",
          "text": [
            "The sparrow flies high in the sky.\n",
            "The penguin cannot fly, it swims.\n"
          ]
        }
      ]
    },
    {
      "cell_type": "code",
      "source": [
        "'''\n",
        "Q5.  Write a program to demonstrate encapsulation by creating a class BankAccount with private attributes\n",
        "balance and methods to deposit, withdraw, and check balance.\n",
        "\n",
        "'''\n",
        "class BankAccount:\n",
        "    def __init__(self, initial_balance=0):\n",
        "        self.__balance = initial_balance  # Private attribute\n",
        "\n",
        "    def deposit(self, amount):\n",
        "        if amount > 0:\n",
        "            self.__balance += amount\n",
        "            print(f\"Deposited: ${amount}\")\n",
        "        else:\n",
        "            print(\"Deposit amount must be positive.\")\n",
        "\n",
        "    def withdraw(self, amount):\n",
        "        if 0 < amount <= self.__balance:\n",
        "            self.__balance -= amount\n",
        "            print(f\"Withdrew: ${amount}\")\n",
        "        else:\n",
        "            print(\"Invalid withdrawal amount or insufficient balance.\")\n",
        "\n",
        "    def check_balance(self):\n",
        "        print(f\"Current Balance: ${self.__balance}\")\n",
        "\n",
        "# Creating an object of BankAccount\n",
        "account = BankAccount(1000)  # Initial balance is $1000\n",
        "\n",
        "# Checking balance\n",
        "account.check_balance()  # Output: Current Balance: $1000\n",
        "\n",
        "# Depositing money\n",
        "account.deposit(500)  # Output: Deposited: $500\n",
        "account.check_balance()  # Output: Current Balance: $1500\n",
        "\n",
        "# Withdrawing money\n",
        "account.withdraw(200)  # Output: Withdrew: $200\n",
        "account.check_balance()  # Output: Current Balance: $1300\n",
        "\n",
        "# Trying to withdraw an invalid amount\n",
        "account.withdraw(2000)  # Output: Invalid withdrawal amount or insufficient balance."
      ],
      "metadata": {
        "colab": {
          "base_uri": "https://localhost:8080/"
        },
        "id": "h8U3P7kR-6P8",
        "outputId": "0a94b6e0-0fed-4867-cd0f-d1644b02cc7b"
      },
      "execution_count": 18,
      "outputs": [
        {
          "output_type": "stream",
          "name": "stdout",
          "text": [
            "Current Balance: $1000\n",
            "Deposited: $500\n",
            "Current Balance: $1500\n",
            "Withdrew: $200\n",
            "Current Balance: $1300\n",
            "Invalid withdrawal amount or insufficient balance.\n"
          ]
        }
      ]
    },
    {
      "cell_type": "code",
      "source": [
        "'''\n",
        "Q6. Demonstrate runtime polymorphism using a method play() in a base class Instrument. Derive classes Guitar\n",
        "and Piano that implement their own version of play().\n",
        "\n",
        "'''\n",
        "# Base class Instrument\n",
        "class Instrument:\n",
        "    def play(self):\n",
        "        print(\"This instrument is being played.\")\n",
        "\n",
        "# Derived class Guitar\n",
        "class Guitar(Instrument):\n",
        "    def play(self):\n",
        "        print(\"The guitar is strumming.\")\n",
        "\n",
        "# Derived class Piano\n",
        "class Piano(Instrument):\n",
        "    def play(self):\n",
        "        print(\"The piano is being played.\")\n",
        "\n",
        "# Creating objects of Guitar and Piano\n",
        "guitar = Guitar()\n",
        "piano = Piano()\n",
        "\n",
        "# Calling the play() method on both objects\n",
        "guitar.play()  # Output: The guitar is strumming.\n",
        "piano.play()   # Output: The piano is being played."
      ],
      "metadata": {
        "colab": {
          "base_uri": "https://localhost:8080/"
        },
        "id": "1f5MJ1h5_Ibk",
        "outputId": "0fe8270f-1860-4d21-de24-8e1644baf14f"
      },
      "execution_count": 19,
      "outputs": [
        {
          "output_type": "stream",
          "name": "stdout",
          "text": [
            "The guitar is strumming.\n",
            "The piano is being played.\n"
          ]
        }
      ]
    },
    {
      "cell_type": "code",
      "source": [
        "'''\n",
        "Q7. Create a class MathOperations with a class method add_numbers() to add two numbers and a static\n",
        "method subtract_numbers() to subtract two numbers.\n",
        "\n",
        "'''\n",
        "class MathOperations:\n",
        "    @classmethod\n",
        "    def add_numbers(cls, a, b):\n",
        "        return a + b  # Adds two numbers\n",
        "\n",
        "    @staticmethod\n",
        "    def subtract_numbers(a, b):\n",
        "        return a - b  # Subtracts second number from first number\n",
        "\n",
        "# Using the class method to add numbers\n",
        "sum_result = MathOperations.add_numbers(20, 5)\n",
        "print(f\"Sum: {sum_result}\")  # Output: Sum: 15\n",
        "\n",
        "# Using the static method to subtract numbers\n",
        "difference_result = MathOperations.subtract_numbers(20, 5)\n",
        "print(f\"Difference: {difference_result}\")  # Output: Difference: 5\n"
      ],
      "metadata": {
        "colab": {
          "base_uri": "https://localhost:8080/"
        },
        "id": "SK8lU_iH_UbF",
        "outputId": "156ec035-3ea9-4f29-af17-3cbd8cde6e61"
      },
      "execution_count": 21,
      "outputs": [
        {
          "output_type": "stream",
          "name": "stdout",
          "text": [
            "Sum: 25\n",
            "Difference: 15\n"
          ]
        }
      ]
    },
    {
      "cell_type": "code",
      "source": [
        "'''\n",
        "Q8.  Implement a class Person with a class method to count the total number of persons created.\n",
        "\n",
        "'''\n",
        "class Person:\n",
        "    # Class variable to keep track of the total number of persons\n",
        "    total_persons = 0\n",
        "\n",
        "    def __init__(self, name, age):\n",
        "        self.name = name\n",
        "        self.age = age\n",
        "        Person.total_persons += 1  # Increment the count whenever a new object is created\n",
        "\n",
        "    @classmethod\n",
        "    def get_total_persons(cls):\n",
        "        return cls.total_persons  # Return the total number of persons created\n",
        "\n",
        "# Creating instances of Person\n",
        "person1 = Person(\"Ram\", 30)\n",
        "person2 = Person(\"Aman\", 25)\n",
        "person3 = Person(\"Krishna\", 35)\n",
        "\n",
        "# Using the class method to get the total number of persons created\n",
        "total = Person.get_total_persons()\n",
        "print(f\"Total persons created: {total}\")"
      ],
      "metadata": {
        "colab": {
          "base_uri": "https://localhost:8080/"
        },
        "id": "lee5Lx4A_cos",
        "outputId": "410d4467-633b-4ce1-f7d4-80083795f6f0"
      },
      "execution_count": 22,
      "outputs": [
        {
          "output_type": "stream",
          "name": "stdout",
          "text": [
            "Total persons created: 3\n"
          ]
        }
      ]
    },
    {
      "cell_type": "code",
      "source": [
        "'''\n",
        "Q9. Write a class Fraction with attributes numerator and denominator. Override the str method to display the\n",
        "fraction as \"numerator/denominator\".\n",
        "\n",
        "'''\n",
        "class Fraction:\n",
        "    def __init__(self, numerator, denominator):\n",
        "        self.numerator = numerator\n",
        "        self.denominator = denominator\n",
        "\n",
        "    def __str__(self):\n",
        "        return f\"{self.numerator}/{self.denominator}\"\n",
        "\n",
        "# Creating an instance of Fraction\n",
        "fraction = Fraction(5, 4)\n",
        "\n",
        "# Printing the fraction object\n",
        "print(fraction)"
      ],
      "metadata": {
        "colab": {
          "base_uri": "https://localhost:8080/"
        },
        "id": "6A-KgwmN_uaE",
        "outputId": "b1bfb5f1-3dfc-481a-f154-7cf5b3effbbd"
      },
      "execution_count": 34,
      "outputs": [
        {
          "output_type": "stream",
          "name": "stdout",
          "text": [
            "5/4\n"
          ]
        }
      ]
    },
    {
      "cell_type": "code",
      "source": [
        "'''\n",
        "Q10. Demonstrate operator overloading by creating a class Vector and overriding the add method to add two\n",
        "vectors.\n",
        "\n",
        "'''\n",
        "class Vector:\n",
        "    def __init__(self, x, y):\n",
        "        self.x = x\n",
        "        self.y = y\n",
        "\n",
        "    # Overriding the '+' operator using the __add__ method\n",
        "    def __add__(self, other):\n",
        "        if isinstance(other, Vector):\n",
        "            # Adding corresponding components of two vectors\n",
        "            return Vector(self.x + other.x, self.y + other.y)\n",
        "        return NotImplemented\n",
        "\n",
        "    # To make it easy to print the vector (override __str__ method)\n",
        "    def __str__(self):\n",
        "        return f\"({self.x}, {self.y})\"\n",
        "\n",
        "# Creating two vector objects\n",
        "v1 = Vector(2, 3)\n",
        "v2 = Vector(4, 5)\n",
        "\n",
        "# Adding two vectors using the overloaded '+' operator\n",
        "v3 = v1 + v2\n",
        "\n",
        "# Printing the result\n",
        "print(f\"v1 + v2 = {v3}\")"
      ],
      "metadata": {
        "colab": {
          "base_uri": "https://localhost:8080/"
        },
        "id": "VGDXOFhyADbF",
        "outputId": "dbf1ebed-9783-4023-fc90-33f85b1d9256"
      },
      "execution_count": 24,
      "outputs": [
        {
          "output_type": "stream",
          "name": "stdout",
          "text": [
            "v1 + v2 = (6, 8)\n"
          ]
        }
      ]
    },
    {
      "cell_type": "code",
      "source": [
        "'''\n",
        "Q11.  Create a class Person with attributes name and age. Add a method greet() that prints \"Hello, my name is\n",
        "{name} and I am {age} years old.\"\n",
        "\n",
        "'''\n",
        "class Person:\n",
        "    def __init__(self, name, age):\n",
        "        self.name = name\n",
        "        self.age = age\n",
        "\n",
        "    def greet(self):\n",
        "        print(f\"Hello, my name is {self.name} and I am {self.age} years old\")\n",
        "\n",
        "# Creating an instance of Person\n",
        "person1 = Person(\"Sneha singh\", 22)\n",
        "\n",
        "# Calling the greet method\n",
        "person1.greet()"
      ],
      "metadata": {
        "colab": {
          "base_uri": "https://localhost:8080/"
        },
        "id": "UoigMYSIAPxt",
        "outputId": "4f6cf3e2-7e46-46ab-f95d-c8179fb9093c"
      },
      "execution_count": 35,
      "outputs": [
        {
          "output_type": "stream",
          "name": "stdout",
          "text": [
            "Hello, my name is Sneha singh and I am 22 years old\n"
          ]
        }
      ]
    },
    {
      "cell_type": "code",
      "source": [
        "'''\n",
        "Q12.  Implement a class Student with attributes name and grades. Create a method average_grade() to compute\n",
        "the average of the grades.\n",
        "\n",
        "'''\n",
        "class Student:\n",
        "    def __init__(self, name, grades):\n",
        "        self.name = name\n",
        "        self.grades = grades\n",
        "\n",
        "    def average_grade(self):\n",
        "        if len(self.grades) == 0:\n",
        "            return 0  # Return 0 if no grades are available\n",
        "        return sum(self.grades) / len(self.grades)\n",
        "\n",
        "# Creating an instance of Student\n",
        "student1 = Student(\"Sneha\", [75, 89, 68, 82])\n",
        "\n",
        "# Calling the method to compute average grade\n",
        "average = student1.average_grade()\n",
        "print(f\"{student1.name}'s average grade is: {average:.2f}\")"
      ],
      "metadata": {
        "colab": {
          "base_uri": "https://localhost:8080/"
        },
        "id": "_stn5dplAXzU",
        "outputId": "8e78c596-941c-4c71-cfa7-da10fb4e492e"
      },
      "execution_count": 36,
      "outputs": [
        {
          "output_type": "stream",
          "name": "stdout",
          "text": [
            "Sneha's average grade is: 78.50\n"
          ]
        }
      ]
    },
    {
      "cell_type": "code",
      "source": [
        "'''\n",
        "Q13. Create a class Rectangle with methods set_dimensions() to set the dimensions and area() to calculate the\n",
        "area.\n",
        "\n",
        "'''\n",
        "class Rectangle:\n",
        "    def __init__(self):\n",
        "        self.length = 0\n",
        "        self.width = 0\n",
        "\n",
        "    # Method to set the dimensions of the rectangle\n",
        "    def set_dimensions(self, length, width):\n",
        "        self.length = length\n",
        "        self.width = width\n",
        "\n",
        "    # Method to calculate the area of the rectangle\n",
        "    def area(self):\n",
        "        return self.length * self.width\n",
        "\n",
        "# Creating an instance of Rectangle\n",
        "rect = Rectangle()\n",
        "\n",
        "# Setting the dimensions of the rectangle\n",
        "rect.set_dimensions(5, 3)\n",
        "\n",
        "# Calculating the area of the rectangle\n",
        "area = rect.area()\n",
        "print(f\"The area of the rectangle is: {area}\")\n",
        ""
      ],
      "metadata": {
        "colab": {
          "base_uri": "https://localhost:8080/"
        },
        "id": "g1X9B07XA2wl",
        "outputId": "c49e508a-86b0-4b5d-9ec7-840f3fef3a2c"
      },
      "execution_count": 28,
      "outputs": [
        {
          "output_type": "stream",
          "name": "stdout",
          "text": [
            "The area of the rectangle is: 15\n"
          ]
        }
      ]
    },
    {
      "cell_type": "code",
      "source": [
        "'''\n",
        "Q14.  Create a class Employee with a method calculate_salary() that computes the salary based on hours worked\n",
        "and hourly rate. Create a derived class Manager that adds a bonus to the salary.\n",
        "\n",
        "'''\n",
        "class Employee:\n",
        "    def __init__(self, name, hours_worked, hourly_rate):\n",
        "        self.name = name\n",
        "        self.hours_worked = hours_worked\n",
        "        self.hourly_rate = hourly_rate\n",
        "\n",
        "    def calculate_salary(self):\n",
        "        # Calculates salary based on hours worked and hourly rate\n",
        "        return self.hours_worked * self.hourly_rate\n",
        "\n",
        "# Derived class Manager\n",
        "class Manager(Employee):\n",
        "    def __init__(self, name, hours_worked, hourly_rate, bonus):\n",
        "        # Initialize the base class (Employee) constructor\n",
        "        super().__init__(name, hours_worked, hourly_rate)\n",
        "        self.bonus = bonus\n",
        "\n",
        "    def calculate_salary(self):\n",
        "        # Call the base class method to get the salary and add the bonus\n",
        "        salary = super().calculate_salary()\n",
        "        return salary + self.bonus\n",
        "\n",
        "# Creating an instance of Employee\n",
        "employee = Employee(\"Sneha\", 40, 20)\n",
        "\n",
        "# Creating an instance of Manager\n",
        "manager = Manager(\"Suvo\", 40, 25, 500)\n",
        "\n",
        "# Calculate salary for Employee and Manager\n",
        "employee_salary = employee.calculate_salary()\n",
        "manager_salary = manager.calculate_salary()\n",
        "\n",
        "print(f\"{employee.name}'s salary: ${employee_salary}\")\n",
        "print(f\"{manager.name}'s salary (with bonus): ${manager_salary}\")"
      ],
      "metadata": {
        "colab": {
          "base_uri": "https://localhost:8080/"
        },
        "id": "BQoeEhZRBvfV",
        "outputId": "13eed3b7-94f6-41be-af15-cd078fea2bf0"
      },
      "execution_count": 37,
      "outputs": [
        {
          "output_type": "stream",
          "name": "stdout",
          "text": [
            "Sneha's salary: $800\n",
            "Suvo's salary (with bonus): $1500\n"
          ]
        }
      ]
    },
    {
      "cell_type": "code",
      "source": [
        "'''\n",
        "Q15. . Create a class Product with attributes name, price, and quantity. Implement a method total_price() that\n",
        "calculates the total price of the product.\n",
        "\n",
        "'''\n",
        "class Product:\n",
        "    def __init__(self, name, price, quantity):\n",
        "        self.name = name\n",
        "        self.price = price\n",
        "        self.quantity = quantity\n",
        "\n",
        "    def total_price(self):\n",
        "        # Calculates the total price by multiplying price and quantity\n",
        "        return self.price * self.quantity\n",
        "\n",
        "# Creating an instance of Product\n",
        "product1 = Product(\"Laptop\", 500, 5)\n",
        "\n",
        "# Calling the total_price() method to calculate the total price\n",
        "total = product1.total_price()\n",
        "\n",
        "print(f\"The total price for {product1.name} is: ${total}\")"
      ],
      "metadata": {
        "colab": {
          "base_uri": "https://localhost:8080/"
        },
        "id": "QZDyEa2GCOfd",
        "outputId": "e1d230cb-5440-4edd-a8be-5472f5dbea76"
      },
      "execution_count": 38,
      "outputs": [
        {
          "output_type": "stream",
          "name": "stdout",
          "text": [
            "The total price for Laptop is: $2500\n"
          ]
        }
      ]
    },
    {
      "cell_type": "code",
      "source": [
        "'''\n",
        "Q16. Create a class Animal with an abstract method sound(). Create two derived classes Cow and Sheep that\n",
        "implement the sound() method.\n",
        "\n",
        "'''\n",
        "from abc import ABC, abstractmethod\n",
        "\n",
        "# Abstract class Animal\n",
        "class Animal(ABC):\n",
        "    @abstractmethod\n",
        "    def sound(self):\n",
        "        pass  # This is an abstract method that must be overridden by subclasses\n",
        "\n",
        "# Derived class Cow\n",
        "class Cow(Animal):\n",
        "    def sound(self):\n",
        "        print(\"Moo\")\n",
        "\n",
        "# Derived class Sheep\n",
        "class Sheep(Animal):\n",
        "    def sound(self):\n",
        "        print(\"Baa\")\n",
        "\n",
        "# Creating instances of Cow and Sheep\n",
        "cow = Cow()\n",
        "sheep = Sheep()\n",
        "\n",
        "# Calling the sound() method on each object\n",
        "cow.sound()\n",
        "sheep.sound()"
      ],
      "metadata": {
        "colab": {
          "base_uri": "https://localhost:8080/"
        },
        "id": "LXzyUMuHCZyd",
        "outputId": "258e7287-93f0-441c-aebd-c8128b587f26"
      },
      "execution_count": 31,
      "outputs": [
        {
          "output_type": "stream",
          "name": "stdout",
          "text": [
            "Moo\n",
            "Baa\n"
          ]
        }
      ]
    },
    {
      "cell_type": "code",
      "source": [
        "'''\n",
        "Q17. Create a class Book with attributes title, author, and year_published. Add a method get_book_info() that\n",
        "returns a formatted string with the book's details.\n",
        "\n",
        "'''\n",
        "class Book:\n",
        "    def __init__(self, title, author, year_published):\n",
        "        self.title = title\n",
        "        self.author = author\n",
        "        self.year_published = year_published\n",
        "\n",
        "    def get_book_info(self):\n",
        "        # Returns a formatted string with the book's details\n",
        "        return f\"'{self.title}' by {self.author}, published in {self.year_published}\"\n",
        "\n",
        "# Creating an instance of Book\n",
        "book1 = Book(\"1984\", \"George Orwell\", 1949)\n",
        "\n",
        "# Getting and printing the book's information\n",
        "book_info = book1.get_book_info()\n",
        "print(book_info)"
      ],
      "metadata": {
        "colab": {
          "base_uri": "https://localhost:8080/"
        },
        "id": "miC1Cj2GCne9",
        "outputId": "002a73cb-4178-42d4-ebf8-76ad79a37a29"
      },
      "execution_count": 32,
      "outputs": [
        {
          "output_type": "stream",
          "name": "stdout",
          "text": [
            "'1984' by George Orwell, published in 1949\n"
          ]
        }
      ]
    },
    {
      "cell_type": "code",
      "source": [
        "'''\n",
        "Q18. Create a class House with attributes address and price. Create a derived class Mansion that adds an\n",
        "attribute number_of_rooms.\n",
        "\n",
        "'''\n",
        "# Base class House\n",
        "class House:\n",
        "    def __init__(self, address, price):\n",
        "        self.address = address\n",
        "        self.price = price\n",
        "\n",
        "    def get_info(self):\n",
        "        return f\"House at {self.address} costs ${self.price}\"\n",
        "\n",
        "# Derived class Mansion\n",
        "class Mansion(House):\n",
        "    def __init__(self, address, price, number_of_rooms):\n",
        "        # Initialize the base class (House) constructor\n",
        "        super().__init__(address, price)\n",
        "        self.number_of_rooms = number_of_rooms\n",
        "\n",
        "    def get_info(self):\n",
        "        # Get the base class info and add number of rooms to the details\n",
        "        base_info = super().get_info()\n",
        "        return f\"{base_info} and has {self.number_of_rooms} rooms.\"\n",
        "\n",
        "# Creating instances of House and Mansion\n",
        "house = House(\"123 Main St\", 250000)\n",
        "mansion = Mansion(\"456 Luxury Ave\", 5000000, 10)\n",
        "\n",
        "# Getting and printing the information for both House and Mansion\n",
        "print(house.get_info())\n",
        "print(mansion.get_info())"
      ],
      "metadata": {
        "colab": {
          "base_uri": "https://localhost:8080/"
        },
        "id": "G67_YPucCzX9",
        "outputId": "1db0bf07-97d4-417e-cdae-78acb1878ae5"
      },
      "execution_count": 33,
      "outputs": [
        {
          "output_type": "stream",
          "name": "stdout",
          "text": [
            "House at 123 Main St costs $250000\n",
            "House at 456 Luxury Ave costs $5000000 and has 10 rooms.\n"
          ]
        }
      ]
    }
  ]
}